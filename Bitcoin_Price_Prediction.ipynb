{
  "nbformat": 4,
  "nbformat_minor": 0,
  "metadata": {
    "colab": {
      "name": "Bitcoin_Price_Prediction.ipynb",
      "provenance": [],
      "collapsed_sections": []
    },
    "kernelspec": {
      "name": "python3",
      "display_name": "Python 3"
    }
  },
  "cells": [
    {
      "cell_type": "markdown",
      "metadata": {
        "id": "yP1Ed1g5gb9v",
        "colab_type": "text"
      },
      "source": [
        "# ***ทำนายราคา Bitcoin โดยใช้ Machine Learning and Python*** "
      ]
    },
    {
      "cell_type": "code",
      "metadata": {
        "id": "58kIkWEPQWsM",
        "colab_type": "code",
        "colab": {}
      },
      "source": [
        "#Install numpy and pandas \n",
        "\n",
        "import numpy as np\n",
        "import pandas as pd"
      ],
      "execution_count": null,
      "outputs": []
    },
    {
      "cell_type": "code",
      "metadata": {
        "id": "36rIbmlbRS-6",
        "colab_type": "code",
        "colab": {
          "resources": {
            "http://localhost:8080/nbextensions/google.colab/files.js": {
              "data": "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",
              "ok": true,
              "headers": [
                [
                  "content-type",
                  "application/javascript"
                ]
              ],
              "status": 200,
              "status_text": ""
            }
          },
          "base_uri": "https://localhost:8080/",
          "height": 74
        },
        "outputId": "02fcebaa-738d-4c7d-f508-4790ff28ee6e"
      },
      "source": [
        "#เลือกไฟล์ DataSet สามารถดาวโหลดจาก Blockchain.com ได้\n",
        "from google.colab import files\n",
        "uploaded = files.upload()"
      ],
      "execution_count": null,
      "outputs": [
        {
          "output_type": "display_data",
          "data": {
            "text/html": [
              "\n",
              "     <input type=\"file\" id=\"files-b285638f-f4ee-4df6-a4a1-62c2901ce15e\" name=\"files[]\" multiple disabled\n",
              "        style=\"border:none\" />\n",
              "     <output id=\"result-b285638f-f4ee-4df6-a4a1-62c2901ce15e\">\n",
              "      Upload widget is only available when the cell has been executed in the\n",
              "      current browser session. Please rerun this cell to enable.\n",
              "      </output>\n",
              "      <script src=\"/nbextensions/google.colab/files.js\"></script> "
            ],
            "text/plain": [
              "<IPython.core.display.HTML object>"
            ]
          },
          "metadata": {
            "tags": []
          }
        },
        {
          "output_type": "stream",
          "text": [
            "Saving market-price.csv to market-price (3).csv\n"
          ],
          "name": "stdout"
        }
      ]
    },
    {
      "cell_type": "code",
      "metadata": {
        "id": "oveujm5FRtLw",
        "colab_type": "code",
        "colab": {
          "base_uri": "https://localhost:8080/",
          "height": 266
        },
        "outputId": "50bde9b5-a3ce-4305-fbbc-5988ba14a130"
      },
      "source": [
        "#เก็บข้อมูลลงชุดตัวแปล\n",
        "df = pd.read_csv('market-price (3).csv')\n",
        "df.head(7)\n"
      ],
      "execution_count": null,
      "outputs": [
        {
          "output_type": "execute_result",
          "data": {
            "text/html": [
              "<div>\n",
              "<style scoped>\n",
              "    .dataframe tbody tr th:only-of-type {\n",
              "        vertical-align: middle;\n",
              "    }\n",
              "\n",
              "    .dataframe tbody tr th {\n",
              "        vertical-align: top;\n",
              "    }\n",
              "\n",
              "    .dataframe thead th {\n",
              "        text-align: right;\n",
              "    }\n",
              "</style>\n",
              "<table border=\"1\" class=\"dataframe\">\n",
              "  <thead>\n",
              "    <tr style=\"text-align: right;\">\n",
              "      <th></th>\n",
              "      <th>Timestamp</th>\n",
              "      <th>market-price</th>\n",
              "    </tr>\n",
              "  </thead>\n",
              "  <tbody>\n",
              "    <tr>\n",
              "      <th>0</th>\n",
              "      <td>08/20/10 0:00</td>\n",
              "      <td>0.07</td>\n",
              "    </tr>\n",
              "    <tr>\n",
              "      <th>1</th>\n",
              "      <td>08/23/10 0:00</td>\n",
              "      <td>0.07</td>\n",
              "    </tr>\n",
              "    <tr>\n",
              "      <th>2</th>\n",
              "      <td>08/26/10 0:00</td>\n",
              "      <td>0.07</td>\n",
              "    </tr>\n",
              "    <tr>\n",
              "      <th>3</th>\n",
              "      <td>08/29/10 0:00</td>\n",
              "      <td>0.06</td>\n",
              "    </tr>\n",
              "    <tr>\n",
              "      <th>4</th>\n",
              "      <td>09/01/10 0:00</td>\n",
              "      <td>0.06</td>\n",
              "    </tr>\n",
              "    <tr>\n",
              "      <th>5</th>\n",
              "      <td>09/04/10 0:00</td>\n",
              "      <td>0.06</td>\n",
              "    </tr>\n",
              "    <tr>\n",
              "      <th>6</th>\n",
              "      <td>09/07/10 0:00</td>\n",
              "      <td>0.06</td>\n",
              "    </tr>\n",
              "  </tbody>\n",
              "</table>\n",
              "</div>"
            ],
            "text/plain": [
              "       Timestamp  market-price\n",
              "0  08/20/10 0:00          0.07\n",
              "1  08/23/10 0:00          0.07\n",
              "2  08/26/10 0:00          0.07\n",
              "3  08/29/10 0:00          0.06\n",
              "4  09/01/10 0:00          0.06\n",
              "5  09/04/10 0:00          0.06\n",
              "6  09/07/10 0:00          0.06"
            ]
          },
          "metadata": {
            "tags": []
          },
          "execution_count": 72
        }
      ]
    },
    {
      "cell_type": "code",
      "metadata": {
        "id": "UR6MIJYQR6tv",
        "colab_type": "code",
        "colab": {}
      },
      "source": [
        "#ลบคอลัมน์วันที่ออกจากกรอบข้อมูล\n",
        "df.drop(['Timestamp'], 1, inplace=True)\n"
      ],
      "execution_count": null,
      "outputs": []
    },
    {
      "cell_type": "code",
      "metadata": {
        "id": "4BcqQtlkVaZA",
        "colab_type": "code",
        "colab": {
          "base_uri": "https://localhost:8080/",
          "height": 266
        },
        "outputId": "6bb9331b-b7b8-455d-8f66-5bfa08d09911"
      },
      "source": [
        "#แสดง 7 แถวแรกของชุดข้อมูลใหม่\n",
        "df.head(7)\n"
      ],
      "execution_count": null,
      "outputs": [
        {
          "output_type": "execute_result",
          "data": {
            "text/html": [
              "<div>\n",
              "<style scoped>\n",
              "    .dataframe tbody tr th:only-of-type {\n",
              "        vertical-align: middle;\n",
              "    }\n",
              "\n",
              "    .dataframe tbody tr th {\n",
              "        vertical-align: top;\n",
              "    }\n",
              "\n",
              "    .dataframe thead th {\n",
              "        text-align: right;\n",
              "    }\n",
              "</style>\n",
              "<table border=\"1\" class=\"dataframe\">\n",
              "  <thead>\n",
              "    <tr style=\"text-align: right;\">\n",
              "      <th></th>\n",
              "      <th>market-price</th>\n",
              "      <th>Prediction</th>\n",
              "    </tr>\n",
              "  </thead>\n",
              "  <tbody>\n",
              "    <tr>\n",
              "      <th>0</th>\n",
              "      <td>0.07</td>\n",
              "      <td>0.28</td>\n",
              "    </tr>\n",
              "    <tr>\n",
              "      <th>1</th>\n",
              "      <td>0.07</td>\n",
              "      <td>0.29</td>\n",
              "    </tr>\n",
              "    <tr>\n",
              "      <th>2</th>\n",
              "      <td>0.07</td>\n",
              "      <td>0.29</td>\n",
              "    </tr>\n",
              "    <tr>\n",
              "      <th>3</th>\n",
              "      <td>0.06</td>\n",
              "      <td>0.29</td>\n",
              "    </tr>\n",
              "    <tr>\n",
              "      <th>4</th>\n",
              "      <td>0.06</td>\n",
              "      <td>0.28</td>\n",
              "    </tr>\n",
              "    <tr>\n",
              "      <th>5</th>\n",
              "      <td>0.06</td>\n",
              "      <td>0.25</td>\n",
              "    </tr>\n",
              "    <tr>\n",
              "      <th>6</th>\n",
              "      <td>0.06</td>\n",
              "      <td>0.23</td>\n",
              "    </tr>\n",
              "  </tbody>\n",
              "</table>\n",
              "</div>"
            ],
            "text/plain": [
              "   market-price  Prediction\n",
              "0          0.07        0.28\n",
              "1          0.07        0.29\n",
              "2          0.07        0.29\n",
              "3          0.06        0.29\n",
              "4          0.06        0.28\n",
              "5          0.06        0.25\n",
              "6          0.06        0.23"
            ]
          },
          "metadata": {
            "tags": []
          },
          "execution_count": 95
        }
      ]
    },
    {
      "cell_type": "code",
      "metadata": {
        "id": "hqoYD1aNVR4w",
        "colab_type": "code",
        "colab": {}
      },
      "source": [
        "#สร้างตัวแปรสําหรับการทํานาย 'n' วันออกในอนาคต ('n' เป็นจํานวนเต็มโดยพลการ) และคอลัมน์ที่เรียกว่า 'คาดการณ์' ที่จะมีราคาของ Bitcoin 30 วันจากราคาปัจจุบัน (ราคาของ BTC ในคอลัมน์ราคา)\n",
        "prediction_days = 30 #n = 30 days\n",
        "df['Prediction'] = df[['market-price']].shift(-prediction_days)\n"
      ],
      "execution_count": null,
      "outputs": []
    },
    {
      "cell_type": "code",
      "metadata": {
        "id": "EFuDB_YnXQ_j",
        "colab_type": "code",
        "colab": {
          "base_uri": "https://localhost:8080/",
          "height": 266
        },
        "outputId": "f00cbf40-22ea-4180-a960-14c9b6e00881"
      },
      "source": [
        "#แสดง 7 แถวแรกของชุดข้อมูลใหม่\n",
        "df.head(7)"
      ],
      "execution_count": null,
      "outputs": [
        {
          "output_type": "execute_result",
          "data": {
            "text/html": [
              "<div>\n",
              "<style scoped>\n",
              "    .dataframe tbody tr th:only-of-type {\n",
              "        vertical-align: middle;\n",
              "    }\n",
              "\n",
              "    .dataframe tbody tr th {\n",
              "        vertical-align: top;\n",
              "    }\n",
              "\n",
              "    .dataframe thead th {\n",
              "        text-align: right;\n",
              "    }\n",
              "</style>\n",
              "<table border=\"1\" class=\"dataframe\">\n",
              "  <thead>\n",
              "    <tr style=\"text-align: right;\">\n",
              "      <th></th>\n",
              "      <th>market-price</th>\n",
              "      <th>Prediction</th>\n",
              "    </tr>\n",
              "  </thead>\n",
              "  <tbody>\n",
              "    <tr>\n",
              "      <th>0</th>\n",
              "      <td>0.07</td>\n",
              "      <td>0.28</td>\n",
              "    </tr>\n",
              "    <tr>\n",
              "      <th>1</th>\n",
              "      <td>0.07</td>\n",
              "      <td>0.29</td>\n",
              "    </tr>\n",
              "    <tr>\n",
              "      <th>2</th>\n",
              "      <td>0.07</td>\n",
              "      <td>0.29</td>\n",
              "    </tr>\n",
              "    <tr>\n",
              "      <th>3</th>\n",
              "      <td>0.06</td>\n",
              "      <td>0.29</td>\n",
              "    </tr>\n",
              "    <tr>\n",
              "      <th>4</th>\n",
              "      <td>0.06</td>\n",
              "      <td>0.28</td>\n",
              "    </tr>\n",
              "    <tr>\n",
              "      <th>5</th>\n",
              "      <td>0.06</td>\n",
              "      <td>0.25</td>\n",
              "    </tr>\n",
              "    <tr>\n",
              "      <th>6</th>\n",
              "      <td>0.06</td>\n",
              "      <td>0.23</td>\n",
              "    </tr>\n",
              "  </tbody>\n",
              "</table>\n",
              "</div>"
            ],
            "text/plain": [
              "   market-price  Prediction\n",
              "0          0.07        0.28\n",
              "1          0.07        0.29\n",
              "2          0.07        0.29\n",
              "3          0.06        0.29\n",
              "4          0.06        0.28\n",
              "5          0.06        0.25\n",
              "6          0.06        0.23"
            ]
          },
          "metadata": {
            "tags": []
          },
          "execution_count": 98
        }
      ]
    },
    {
      "cell_type": "code",
      "metadata": {
        "id": "6hhmazCCYU5B",
        "colab_type": "code",
        "colab": {
          "base_uri": "https://localhost:8080/",
          "height": 143
        },
        "outputId": "276a3dea-66dd-4c43-9f00-b778de19e036"
      },
      "source": [
        "#สร้างชุดข้อมูลอิสระ นี่คือชุดที่มีคุณลักษณะในการทําการคาดการณ์ในอนาคตด้วย ก่อนอื่นเราจะแปลง dataframe \n",
        "#ไปเป็นอาร์เรย์ตัวเลขและวางคอลัมน์คาดการณ์แล้วเราจะลบแถว 'n' สุดท้ายที่จากชุดข้อมูล ในบทความนี้หมายความว่าเราจะลบ 30 วันล่าสุดตั้งแต่ 'n' = prediction_days ซึ่งเท่ากับ 30\n",
        "X = np.array(df.drop(['Prediction'],1))\n",
        "X= X[:len(df)-prediction_days]\n",
        "print(X)\n"
      ],
      "execution_count": null,
      "outputs": [
        {
          "output_type": "stream",
          "text": [
            "[[7.00000e-02]\n",
            " [7.00000e-02]\n",
            " [7.00000e-02]\n",
            " ...\n",
            " [9.38570e+03]\n",
            " [9.78574e+03]\n",
            " [9.16726e+03]]\n"
          ],
          "name": "stdout"
        }
      ]
    },
    {
      "cell_type": "code",
      "metadata": {
        "id": "Q2II4_auYe9A",
        "colab_type": "code",
        "colab": {
          "base_uri": "https://localhost:8080/",
          "height": 53
        },
        "outputId": "7010ccf4-f680-4201-e8f2-0e604fc897d4"
      },
      "source": [
        "#สร้างชุดข้อมูลที่ขึ้นอยู่กับนี้จะเป็นชุดข้อมูลที่มีเป้าหมายของเรานั่นคือข้อมูลที่เรากําลังจะทํานาย เราจะบรรลุผลสําเร็จนี้โดยการแปลง dataframe \n",
        "#เป็นอาร์เรย์ตัวเลขและได้รับทั้งหมดของค่าจากคอลัมน์การทํานายของ dataframeจากนั้นเราจะได้ค่าทั้งหมดจากชุดข้อมูลที่สร้างขึ้นยกเว้นแถว 'n' ล่าสุด\n",
        "y = np.array(df['Prediction'])\n",
        "y = y[:-prediction_days] \n",
        "print(y)"
      ],
      "execution_count": null,
      "outputs": [
        {
          "output_type": "stream",
          "text": [
            "[2.800000e-01 2.900000e-01 2.900000e-01 ... 1.177438e+04 1.229372e+04\n",
            " 1.186582e+04]\n"
          ],
          "name": "stdout"
        }
      ]
    },
    {
      "cell_type": "code",
      "metadata": {
        "id": "vm83REATZwnO",
        "colab_type": "code",
        "colab": {}
      },
      "source": [
        "#แยกข้อมูลออกเป็น 80% การฝึกอบรมและ 20% ทดสอบชุดข้อมูล\n",
        "from sklearn.model_selection import train_test_split\n",
        "x_train, x_test, y_train, y_test = train_test_split(X, y, test_size = 0.2)"
      ],
      "execution_count": null,
      "outputs": []
    },
    {
      "cell_type": "code",
      "metadata": {
        "id": "KMt3vAsJaH1D",
        "colab_type": "code",
        "colab": {
          "base_uri": "https://localhost:8080/",
          "height": 557
        },
        "outputId": "94555bda-d7af-4c04-87a3-6527fe1d91c7"
      },
      "source": [
        " #สร้างตัวแปรที่เรียกว่าprediction_days_arrayและตั้งค่าเท่ากับแถว 30 สุดท้ายของชุดข้อมูลเดิมจากคอลัมน์ราคา\n",
        "prediction_days_array = np.array(df.drop(['Prediction'],1))[-prediction_days:]\n",
        "print(prediction_days_array)"
      ],
      "execution_count": null,
      "outputs": [
        {
          "output_type": "stream",
          "text": [
            "[[ 8899.66]\n",
            " [ 9569.21]\n",
            " [ 9450.84]\n",
            " [ 9658.04]\n",
            " [ 9670.43]\n",
            " [ 9775.15]\n",
            " [ 9459.97]\n",
            " [ 9426.7 ]\n",
            " [ 9380.03]\n",
            " [ 9284.78]\n",
            " [ 9276.58]\n",
            " [ 9004.23]\n",
            " [ 9133.97]\n",
            " [ 9072.42]\n",
            " [ 9348.91]\n",
            " [ 9238.04]\n",
            " [ 9295.9 ]\n",
            " [ 9193.51]\n",
            " [ 9174.71]\n",
            " [ 9392.66]\n",
            " [ 9551.28]\n",
            " [11042.4 ]\n",
            " [11114.93]\n",
            " [11077.77]\n",
            " [11750.28]\n",
            " [11767.6 ]\n",
            " [11392.43]\n",
            " [11774.38]\n",
            " [12293.72]\n",
            " [11865.82]]\n"
          ],
          "name": "stdout"
        }
      ]
    },
    {
      "cell_type": "code",
      "metadata": {
        "id": "hXsDwL3ya-uU",
        "colab_type": "code",
        "colab": {
          "base_uri": "https://localhost:8080/",
          "height": 53
        },
        "outputId": "259a2590-59c6-4ac4-a6dd-98ae8f22e36a"
      },
      "source": [
        "#สร้างรูปแบบการถดถอยแบบเวกเตอร์สนับสนุนโดยใช้ฟังก์ชันพื้นฐานรัศมี (rbf) และฝึกแบบจําลอง\n",
        "from sklearn.svm import SVR\n",
        "svr_rbf = SVR(kernel='rbf', C=1e3, gamma=0.00001)#Create the model\n",
        "svr_rbf.fit(x_train, y_train) #Train the model"
      ],
      "execution_count": null,
      "outputs": [
        {
          "output_type": "execute_result",
          "data": {
            "text/plain": [
              "SVR(C=1000.0, cache_size=200, coef0=0.0, degree=3, epsilon=0.1, gamma=1e-05,\n",
              "    kernel='rbf', max_iter=-1, shrinking=True, tol=0.001, verbose=False)"
            ]
          },
          "metadata": {
            "tags": []
          },
          "execution_count": 99
        }
      ]
    },
    {
      "cell_type": "code",
      "metadata": {
        "id": "19BKJi9gbmCa",
        "colab_type": "code",
        "colab": {
          "base_uri": "https://localhost:8080/",
          "height": 35
        },
        "outputId": "bdf1a5b1-e55c-494a-9d76-5db8e2ded20b"
      },
      "source": [
        "#ทดสอบความถูกต้องของโมเดลบนชุดข้อมูลการทดสอบ\n",
        "svr_rbf_confidence = svr_rbf.score(x_test, y_test)\n",
        "print(\"svr_rbf accuracy: \", svr_rbf_confidence)"
      ],
      "execution_count": null,
      "outputs": [
        {
          "output_type": "stream",
          "text": [
            "svr_rbf accuracy:  0.8568564606366953\n"
          ],
          "name": "stdout"
        }
      ]
    },
    {
      "cell_type": "code",
      "metadata": {
        "id": "l7QvLRbebssn",
        "colab_type": "code",
        "colab": {
          "base_uri": "https://localhost:8080/",
          "height": 1000
        },
        "outputId": "d0981635-34bd-4aec-adb1-c08811ee8a3b"
      },
      "source": [
        "#พิมพ์โมเดลที่คาดการณ์ไว้สําหรับชุดข้อมูลการทดสอบและค่าที่แท้จริงของราคาของบิตคอยน์\n",
        "svm_prediction = svr_rbf.predict(x_test)\n",
        "print(svm_prediction)\n",
        "\n",
        "print()\n",
        "\n",
        "print(y_test)"
      ],
      "execution_count": null,
      "outputs": [
        {
          "output_type": "stream",
          "text": [
            "[1.01803391e+04 6.15774459e+02 1.03339811e+01 2.56389712e+02\n",
            " 2.64866250e+02 6.14839903e+02 6.26683895e+02 8.62319336e+03\n",
            " 1.07939068e+01 3.32293765e+02 6.57593861e+00 6.83566874e+03\n",
            " 9.29658179e+00 4.59025422e+03 8.16850663e+03 3.74416670e+02\n",
            " 6.12541506e+02 6.33932011e+00 3.94035719e+02 6.10844893e+02\n",
            " 6.36455525e+00 6.34230078e+00 1.13023607e+02 4.89674342e+02\n",
            " 3.15226694e+02 6.43272182e+03 6.06807917e+02 6.93777910e+00\n",
            " 5.54241199e+03 2.60942214e+02 2.63511457e+02 7.87821869e+03\n",
            " 1.69188764e+02 8.69103688e+00 4.65610847e+03 7.23948279e+00\n",
            " 2.78377892e+02 2.96684850e+02 6.98863138e+00 4.70476540e+02\n",
            " 6.37646598e+00 8.10885200e+03 8.03705403e+03 9.42449210e+00\n",
            " 4.57986609e+03 8.77786411e+03 4.03795743e+02 9.12629246e+03\n",
            " 8.11881972e+03 2.54134163e+02 7.58682584e+03 1.14198870e+01\n",
            " 1.82792923e+02 7.35027763e+00 1.31079922e+01 4.43250231e+02\n",
            " 6.37024369e+00 6.34366047e+00 5.55915626e+03 2.56640889e+02\n",
            " 8.29445700e+03 4.50886826e+02 3.06141638e+02 6.30244499e+02\n",
            " 1.77875030e+03 2.71408376e+02 6.36075399e+00 6.77050947e+02\n",
            " 1.32378873e+02 6.75676702e+03 8.12429192e+03 4.58682207e+02\n",
            " 6.36505030e+00 8.72361051e+03 7.52456137e+03 6.06803314e+02\n",
            " 9.08237576e+01 5.33788850e+02 6.33932011e+00 4.95857816e+02\n",
            " 2.58824961e+02 1.14568531e+02 8.02800448e+03 9.51527435e+03\n",
            " 8.03359241e+03 1.78191116e+03 6.74176353e+03 4.57966101e+03\n",
            " 1.04809149e+01 7.58236867e+02 5.35525685e+03 8.02590627e+02\n",
            " 6.75081523e+00 9.14360073e+03 2.61165566e+02 1.72122329e+02\n",
            " 3.01323416e+02 8.55376639e+03 6.34390268e+00 1.59213184e+02\n",
            " 8.74403917e+03 6.88244049e+00 7.12454151e+00 5.88802102e+03\n",
            " 2.19298088e+03 7.04639875e+00 8.73487839e+03 1.69218037e+02\n",
            " 6.36656196e+00 5.54276652e+03 5.31679013e+03 2.59036489e+02\n",
            " 4.31631509e+02 6.26253136e+03 6.33932011e+00 7.62295769e+00\n",
            " 6.33932011e+00 3.18674702e+02 6.65458580e+02 6.74892910e+00\n",
            " 6.98392529e+00 6.77914735e+03 5.67052386e+03 9.28582607e+03\n",
            " 1.31651467e+01 3.90913544e+02 6.51529272e+03 3.33611375e+03\n",
            " 8.52350540e+03 8.33332880e+00 3.48082731e+02 2.57983953e+02\n",
            " 6.65228860e+03 9.15691478e+00 9.78859388e+03 6.36656196e+00\n",
            " 9.33150980e+02 1.20043592e+02 9.01566833e+03 1.67409365e+02\n",
            " 6.68905907e+00 3.13049443e+02 5.74720767e+03 7.11938039e+00\n",
            " 7.03416704e+00 2.48225445e+02 8.84191782e+00 7.35612656e+00\n",
            " 1.39981172e+02 5.50851522e+03 7.73271195e+03 2.36214337e+02\n",
            " 9.57913890e+03 1.02836925e+01 2.64243225e+02 6.34745636e+00\n",
            " 2.63932858e+02 3.44175485e+02 6.30105899e+02 6.64998301e+03\n",
            " 2.67973705e+02 4.37223618e+02 8.65477391e+03 4.75048572e+03\n",
            " 7.00284930e+00 8.15532639e+00 9.06630098e+03 6.21735210e+02\n",
            " 1.39915540e+02 7.73061495e+03 3.22874722e+02 6.34366047e+00\n",
            " 9.50446614e+00 1.55141702e+02 7.11231124e+03 6.94687517e+00\n",
            " 1.64443312e+01 6.21912536e+03 7.25978897e+03 3.14573171e+03\n",
            " 8.48928077e+03 7.97421634e+00 6.38829523e+02 1.30336068e+02\n",
            " 6.34745636e+00 2.59505205e+02 3.29882996e+02 2.26861390e+03\n",
            " 8.59376481e+03 9.48438281e+00 7.15394319e+03 6.23422929e+02\n",
            " 7.64617462e+03 7.04525243e+02 8.21154132e+03 6.36029873e+00\n",
            " 6.31350886e+02 6.19954206e+02 2.54282276e+02 6.95144819e+00\n",
            " 6.95102927e+03 7.16661598e+03 6.57593861e+00 1.45153501e+01\n",
            " 3.89174904e+02 4.61419028e+03 8.62630479e+03 2.44738089e+01\n",
            " 6.36656196e+00 8.67150243e+03 2.59628828e+02 3.71490618e+02\n",
            " 6.56763688e+03 2.69334244e+02 9.87896684e+03 3.07965450e+02\n",
            " 9.85500170e+00 3.87613285e+02 6.34251625e+00 5.57364693e+03\n",
            " 3.66853956e+02 9.81287133e+00 2.85583737e+02 5.25043776e+03\n",
            " 6.34465602e+00 9.31722653e+03 3.75368649e+02 7.97053984e+00\n",
            " 8.15637957e+03 1.40633124e+01 6.37133533e+00 3.90040951e+03\n",
            " 1.72482124e+02 6.20891249e+02 1.19188906e+01 7.34538479e+03\n",
            " 9.56507481e+00 2.31687037e+02]\n",
            "\n",
            "[9.919000e+03 3.243600e+02 1.421000e+02 2.404700e+02 2.685300e+02\n",
            " 3.386300e+02 3.901800e+02 8.899660e+03 1.000000e+02 2.965600e+02\n",
            " 4.990000e+00 6.738270e+03 1.797000e+01 3.777620e+03 8.225000e+03\n",
            " 4.305800e+02 7.489800e+02 2.300000e-01 6.751000e+02 6.836900e+02\n",
            " 1.539000e+01 9.000000e-01 1.241200e+02 5.855000e+02 4.070000e+02\n",
            " 4.312260e+03 5.934800e+02 5.480000e+00 5.301290e+03 2.512100e+02\n",
            " 4.479800e+02 7.296770e+03 1.136900e+03 1.190000e+01 3.881000e+03\n",
            " 3.330000e+00 2.499800e+02 2.423400e+02 1.114000e+01 5.957600e+02\n",
            " 8.470000e+00 8.432230e+03 1.003305e+04 2.739000e+01 4.164270e+03\n",
            " 9.378090e+03 5.678800e+02 6.489770e+03 8.049720e+03 2.767400e+02\n",
            " 7.243930e+03 1.128000e+01 1.177200e+02 1.224000e+01 5.490000e+00\n",
            " 6.340000e+02 5.410000e+00 1.040000e+00 5.326670e+03 2.388100e+02\n",
            " 9.167260e+03 5.885000e+02 2.192500e+02 6.086600e+02 1.518750e+03\n",
            " 3.806200e+02 1.644000e+01 4.574900e+02 4.372400e+02 1.625231e+04\n",
            " 8.283760e+03 4.163100e+02 1.999000e+01 1.036028e+04 6.312750e+03\n",
            " 4.939700e+02 1.212000e+02 6.258000e+02 2.500000e-01 4.179600e+02\n",
            " 2.690000e+02 1.038900e+02 9.769790e+03 9.589130e+03 8.457960e+03\n",
            " 2.558300e+03 1.377661e+04 3.216430e+03 4.432000e+01 4.280100e+02\n",
            " 3.444810e+03 4.520300e+02 4.740000e+00 9.775150e+03 4.324300e+02\n",
            " 6.790200e+02 3.898800e+02 9.670430e+03 8.000000e-01 1.049500e+02\n",
            " 8.754460e+03 6.560000e+00 1.114000e+01 4.032250e+03 2.256320e+03\n",
            " 5.760000e+00 8.928550e+03 6.141100e+02 2.487000e+01 1.199641e+04\n",
            " 3.621430e+03 2.659300e+02 6.679500e+02 3.646250e+03 3.000000e-01\n",
            " 1.216000e+01 3.000000e-01 2.659900e+02 1.052840e+03 4.950000e+00\n",
            " 9.370000e+00 7.365990e+03 3.407280e+03 1.111493e+04 1.425000e+02\n",
            " 2.081300e+02 9.193510e+03 2.790000e+03 8.712350e+03 2.510000e+00\n",
            " 4.225000e+02 2.335900e+02 3.885210e+03 1.369000e+01 3.910800e+03\n",
            " 1.695000e+01 4.233700e+02 1.439400e+02 6.501190e+03 1.300900e+02\n",
            " 1.142000e+01 2.621000e+02 3.881090e+03 5.100000e+00 6.270000e+00\n",
            " 2.275000e+02 1.275000e+01 4.960000e+00 1.226500e+02 4.491980e+03\n",
            " 1.021452e+04 8.112000e+02 6.504780e+03 7.193000e+01 2.364400e+02\n",
            " 1.380000e+00 2.352200e+02 2.335100e+02 6.277200e+02 9.276580e+03\n",
            " 2.391400e+02 6.569700e+02 7.765330e+03 4.394070e+03 4.470000e+00\n",
            " 1.156000e+01 6.097460e+03 3.858900e+02 7.320000e+02 1.738294e+04\n",
            " 3.791400e+02 8.800000e-01 1.375000e+01 1.065600e+02 7.250690e+03\n",
            " 5.450000e+00 1.133500e+02 6.408530e+03 8.719880e+03 2.862900e+03\n",
            " 8.026760e+03 1.140000e+01 9.150500e+02 3.930000e+02 1.710000e+00\n",
            " 4.282300e+02 2.223600e+02 2.279820e+03 9.162140e+03 1.553000e+01\n",
            " 6.170460e+03 6.614800e+02 7.351570e+03 6.070400e+02 9.309150e+03\n",
            " 1.574000e+01 6.038500e+02 7.779900e+02 3.105500e+02 5.150000e+00\n",
            " 8.852730e+03 6.138960e+03 5.990000e+00 1.445400e+02 4.558200e+02\n",
            " 4.585570e+03 1.139243e+04 1.335000e+02 1.919000e+01 9.569210e+03\n",
            " 4.327600e+02 4.499800e+02 3.793350e+03 3.408100e+02 1.198476e+04\n",
            " 4.199800e+02 3.336000e+01 2.341800e+02 9.700000e-01 3.556540e+03\n",
            " 4.590200e+02 1.357000e+01 2.539000e+02 3.456020e+03 7.600000e-01\n",
            " 1.379119e+04 2.759700e+02 3.000000e+00 1.073773e+04 8.560000e+00\n",
            " 1.452000e+01 4.179970e+03 8.790000e+01 9.996500e+02 1.275000e+02\n",
            " 8.021490e+03 1.431000e+01 7.800200e+02]\n"
          ],
          "name": "stdout"
        }
      ]
    },
    {
      "cell_type": "code",
      "metadata": {
        "id": "UAy6NNrJbwR2",
        "colab_type": "code",
        "colab": {
          "base_uri": "https://localhost:8080/",
          "height": 125
        },
        "outputId": "639a79b9-d858-4f9a-ce8d-6db06b56e333"
      },
      "source": [
        "#พิมพ์แบบจําลองของการคาดการณ์ราคา Bitcoin สําหรับถัดไป 30 วัน.\n",
        "svm_prediction = svr_rbf.predict(prediction_days_array)\n",
        "print(svm_prediction)\n"
      ],
      "execution_count": null,
      "outputs": [
        {
          "output_type": "stream",
          "text": [
            "[9444.7032455  8335.5321031  8496.7563405  8288.3535776  8295.00232964\n",
            " 8498.02313967 8485.7604614  8523.23643289 8565.04437715 8648.8626712\n",
            " 8658.75457606 9344.93883469 8966.19289783 9155.99539572 8589.37359189\n",
            " 8715.80400279 8636.51292251 8806.35446433 8852.55728828 8554.68788552\n",
            " 8358.76157367 8038.59032364 8086.61408988 8053.613495   8648.93663826\n",
            " 8629.14494343 8669.54577719 8621.35416468 7784.79380812 8511.17036292]\n"
          ],
          "name": "stdout"
        }
      ]
    },
    {
      "cell_type": "code",
      "metadata": {
        "id": "6p78tigQb0kg",
        "colab_type": "code",
        "colab": {
          "base_uri": "https://localhost:8080/",
          "height": 979
        },
        "outputId": "e1d5f94b-04d2-4725-d1d0-31d7378d5f4f"
      },
      "source": [
        "#พิมพ์ราคาที่แท้จริงของบิตคอยน์สําหรับ 30 วันถัดไป\n",
        "df.tail(prediction_days)\n"
      ],
      "execution_count": null,
      "outputs": [
        {
          "output_type": "execute_result",
          "data": {
            "text/html": [
              "<div>\n",
              "<style scoped>\n",
              "    .dataframe tbody tr th:only-of-type {\n",
              "        vertical-align: middle;\n",
              "    }\n",
              "\n",
              "    .dataframe tbody tr th {\n",
              "        vertical-align: top;\n",
              "    }\n",
              "\n",
              "    .dataframe thead th {\n",
              "        text-align: right;\n",
              "    }\n",
              "</style>\n",
              "<table border=\"1\" class=\"dataframe\">\n",
              "  <thead>\n",
              "    <tr style=\"text-align: right;\">\n",
              "      <th></th>\n",
              "      <th>market-price</th>\n",
              "      <th>Prediction</th>\n",
              "    </tr>\n",
              "  </thead>\n",
              "  <tbody>\n",
              "    <tr>\n",
              "      <th>1189</th>\n",
              "      <td>8899.66</td>\n",
              "      <td>NaN</td>\n",
              "    </tr>\n",
              "    <tr>\n",
              "      <th>1190</th>\n",
              "      <td>9569.21</td>\n",
              "      <td>NaN</td>\n",
              "    </tr>\n",
              "    <tr>\n",
              "      <th>1191</th>\n",
              "      <td>9450.84</td>\n",
              "      <td>NaN</td>\n",
              "    </tr>\n",
              "    <tr>\n",
              "      <th>1192</th>\n",
              "      <td>9658.04</td>\n",
              "      <td>NaN</td>\n",
              "    </tr>\n",
              "    <tr>\n",
              "      <th>1193</th>\n",
              "      <td>9670.43</td>\n",
              "      <td>NaN</td>\n",
              "    </tr>\n",
              "    <tr>\n",
              "      <th>1194</th>\n",
              "      <td>9775.15</td>\n",
              "      <td>NaN</td>\n",
              "    </tr>\n",
              "    <tr>\n",
              "      <th>1195</th>\n",
              "      <td>9459.97</td>\n",
              "      <td>NaN</td>\n",
              "    </tr>\n",
              "    <tr>\n",
              "      <th>1196</th>\n",
              "      <td>9426.70</td>\n",
              "      <td>NaN</td>\n",
              "    </tr>\n",
              "    <tr>\n",
              "      <th>1197</th>\n",
              "      <td>9380.03</td>\n",
              "      <td>NaN</td>\n",
              "    </tr>\n",
              "    <tr>\n",
              "      <th>1198</th>\n",
              "      <td>9284.78</td>\n",
              "      <td>NaN</td>\n",
              "    </tr>\n",
              "    <tr>\n",
              "      <th>1199</th>\n",
              "      <td>9276.58</td>\n",
              "      <td>NaN</td>\n",
              "    </tr>\n",
              "    <tr>\n",
              "      <th>1200</th>\n",
              "      <td>9004.23</td>\n",
              "      <td>NaN</td>\n",
              "    </tr>\n",
              "    <tr>\n",
              "      <th>1201</th>\n",
              "      <td>9133.97</td>\n",
              "      <td>NaN</td>\n",
              "    </tr>\n",
              "    <tr>\n",
              "      <th>1202</th>\n",
              "      <td>9072.42</td>\n",
              "      <td>NaN</td>\n",
              "    </tr>\n",
              "    <tr>\n",
              "      <th>1203</th>\n",
              "      <td>9348.91</td>\n",
              "      <td>NaN</td>\n",
              "    </tr>\n",
              "    <tr>\n",
              "      <th>1204</th>\n",
              "      <td>9238.04</td>\n",
              "      <td>NaN</td>\n",
              "    </tr>\n",
              "    <tr>\n",
              "      <th>1205</th>\n",
              "      <td>9295.90</td>\n",
              "      <td>NaN</td>\n",
              "    </tr>\n",
              "    <tr>\n",
              "      <th>1206</th>\n",
              "      <td>9193.51</td>\n",
              "      <td>NaN</td>\n",
              "    </tr>\n",
              "    <tr>\n",
              "      <th>1207</th>\n",
              "      <td>9174.71</td>\n",
              "      <td>NaN</td>\n",
              "    </tr>\n",
              "    <tr>\n",
              "      <th>1208</th>\n",
              "      <td>9392.66</td>\n",
              "      <td>NaN</td>\n",
              "    </tr>\n",
              "    <tr>\n",
              "      <th>1209</th>\n",
              "      <td>9551.28</td>\n",
              "      <td>NaN</td>\n",
              "    </tr>\n",
              "    <tr>\n",
              "      <th>1210</th>\n",
              "      <td>11042.40</td>\n",
              "      <td>NaN</td>\n",
              "    </tr>\n",
              "    <tr>\n",
              "      <th>1211</th>\n",
              "      <td>11114.93</td>\n",
              "      <td>NaN</td>\n",
              "    </tr>\n",
              "    <tr>\n",
              "      <th>1212</th>\n",
              "      <td>11077.77</td>\n",
              "      <td>NaN</td>\n",
              "    </tr>\n",
              "    <tr>\n",
              "      <th>1213</th>\n",
              "      <td>11750.28</td>\n",
              "      <td>NaN</td>\n",
              "    </tr>\n",
              "    <tr>\n",
              "      <th>1214</th>\n",
              "      <td>11767.60</td>\n",
              "      <td>NaN</td>\n",
              "    </tr>\n",
              "    <tr>\n",
              "      <th>1215</th>\n",
              "      <td>11392.43</td>\n",
              "      <td>NaN</td>\n",
              "    </tr>\n",
              "    <tr>\n",
              "      <th>1216</th>\n",
              "      <td>11774.38</td>\n",
              "      <td>NaN</td>\n",
              "    </tr>\n",
              "    <tr>\n",
              "      <th>1217</th>\n",
              "      <td>12293.72</td>\n",
              "      <td>NaN</td>\n",
              "    </tr>\n",
              "    <tr>\n",
              "      <th>1218</th>\n",
              "      <td>11865.82</td>\n",
              "      <td>NaN</td>\n",
              "    </tr>\n",
              "  </tbody>\n",
              "</table>\n",
              "</div>"
            ],
            "text/plain": [
              "      market-price  Prediction\n",
              "1189       8899.66         NaN\n",
              "1190       9569.21         NaN\n",
              "1191       9450.84         NaN\n",
              "1192       9658.04         NaN\n",
              "1193       9670.43         NaN\n",
              "1194       9775.15         NaN\n",
              "1195       9459.97         NaN\n",
              "1196       9426.70         NaN\n",
              "1197       9380.03         NaN\n",
              "1198       9284.78         NaN\n",
              "1199       9276.58         NaN\n",
              "1200       9004.23         NaN\n",
              "1201       9133.97         NaN\n",
              "1202       9072.42         NaN\n",
              "1203       9348.91         NaN\n",
              "1204       9238.04         NaN\n",
              "1205       9295.90         NaN\n",
              "1206       9193.51         NaN\n",
              "1207       9174.71         NaN\n",
              "1208       9392.66         NaN\n",
              "1209       9551.28         NaN\n",
              "1210      11042.40         NaN\n",
              "1211      11114.93         NaN\n",
              "1212      11077.77         NaN\n",
              "1213      11750.28         NaN\n",
              "1214      11767.60         NaN\n",
              "1215      11392.43         NaN\n",
              "1216      11774.38         NaN\n",
              "1217      12293.72         NaN\n",
              "1218      11865.82         NaN"
            ]
          },
          "metadata": {
            "tags": []
          },
          "execution_count": 92
        }
      ]
    },
    {
      "cell_type": "markdown",
      "metadata": {
        "id": "SF_TlAX-i0AO",
        "colab_type": "text"
      },
      "source": [
        "# ***เสร็จแล้วว🎉🎉✨✨***\n",
        "\n",
        "---\n",
        "\n"
      ]
    }
  ]
}